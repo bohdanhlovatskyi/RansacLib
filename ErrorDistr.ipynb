{
 "cells": [
  {
   "cell_type": "code",
   "execution_count": 43,
   "id": "c0763a9b",
   "metadata": {},
   "outputs": [],
   "source": [
    "import os\n",
    "import numpy as np\n",
    "import pandas as pd\n",
    "import seaborn as sns\n",
    "import matplotlib.pyplot as plt"
   ]
  },
  {
   "cell_type": "code",
   "execution_count": 5,
   "id": "d4d92a69",
   "metadata": {},
   "outputs": [
    {
     "data": {
      "text/plain": [
       "['res.zip', 'r.zip', 'results3', 'results']"
      ]
     },
     "execution_count": 5,
     "metadata": {},
     "output_type": "execute_result"
    }
   ],
   "source": [
    "os.listdir(\"resultts\")"
   ]
  },
  {
   "cell_type": "code",
   "execution_count": 150,
   "id": "7fc82c42",
   "metadata": {},
   "outputs": [],
   "source": [
    "def get_statistics(dev: int, iters: int, threshold: int):\n",
    "    errors = []\n",
    "    i = 0\n",
    "    for f in os.listdir(\"resultts/results3\"):\n",
    "        name, _ = f.split(\".\")\n",
    "        parts = name.split(\"_\")\n",
    "        if len(parts) != 4: continue\n",
    "\n",
    "        itr, dev  = float(parts[1]), float(parts[2])\n",
    "        if dev != DEV_OF_INTEREST: continue\n",
    "\n",
    "        print(itr, dev)\n",
    "        with open(f\"resultts/results3/{f}\") as f:\n",
    "            losses = f.readlines()[0]\n",
    "\n",
    "        losses = list(map(float, losses.split(\" \")))\n",
    "        errors.extend(losses)\n",
    "        i += 1\n",
    "        if i == iters:\n",
    "            break\n",
    "            \n",
    "    print(f\"collected {len(errors)} samples\")\n",
    "    filt = [elm for elm in errors if elm < threshold]\n",
    "    print(f\"get rid of {len(errors) - len(filt)} ({(len(errors) - len(filt)) / len(errors)}) samples - larger than {threshold}\")\n",
    "    serrors = pd.Series(filt, name=\"errors\")\n",
    "    print(serrors.describe())\n",
    "    plt.figure(figsize=(13,13))\n",
    "    ax = sns.displot(serrors)\n",
    "    plt.plot()\n",
    "    "
   ]
  },
  {
   "cell_type": "code",
   "execution_count": 151,
   "id": "8f94c599",
   "metadata": {},
   "outputs": [
    {
     "name": "stdout",
     "output_type": "stream",
     "text": [
      "77.0 25.0\n",
      "collected 1482580 samples\n",
      "get rid of 824502 (0.5561264822134387) samples - larger than 1000000.0\n",
      "count    658078.000000\n",
      "mean     146524.916208\n",
      "std      181408.708180\n",
      "min           0.106629\n",
      "25%       31016.100000\n",
      "50%       79739.900000\n",
      "75%      182892.000000\n",
      "max      999980.000000\n",
      "Name: errors, dtype: float64\n"
     ]
    },
    {
     "data": {
      "text/plain": [
       "<Figure size 936x936 with 0 Axes>"
      ]
     },
     "metadata": {},
     "output_type": "display_data"
    },
    {
     "data": {
      "image/png": "[encoded data removed]",
      "text/plain": [
       "<Figure size 360x360 with 1 Axes>"
      ]
     },
     "metadata": {
      "needs_background": "light"
     },
     "output_type": "display_data"
    }
   ],
   "source": [
    "get_statistics(25, 1, 1e6)"
   ]
  },
  {
   "cell_type": "code",
   "execution_count": 154,
   "id": "53b49c28",
   "metadata": {},
   "outputs": [
    {
     "name": "stdout",
     "output_type": "stream",
     "text": [
      "77.0 25.0\n",
      "collected 1482580 samples\n",
      "get rid of 1422611 (0.9595509179943073) samples - larger than 10000.0\n",
      "count    59969.000000\n",
      "mean      4877.574516\n",
      "std       2902.258542\n",
      "min          0.106629\n",
      "25%       2348.340000\n",
      "50%       4811.310000\n",
      "75%       7369.490000\n",
      "max       9999.960000\n",
      "Name: errors, dtype: float64\n"
     ]
    },
    {
     "data": {
      "text/plain": [
       "<Figure size 936x936 with 0 Axes>"
      ]
     },
     "metadata": {},
     "output_type": "display_data"
    },
    {
     "data": {
      "image/png": "[encoded data removed]",
      "text/plain": [
       "<Figure size 360x360 with 1 Axes>"
      ]
     },
     "metadata": {
      "needs_background": "light"
     },
     "output_type": "display_data"
    }
   ],
   "source": [
    "get_statistics(25, 1, 1e4)"
   ]
  },
  {
   "cell_type": "code",
   "execution_count": 156,
   "id": "8d55c7cb",
   "metadata": {},
   "outputs": [
    {
     "name": "stdout",
     "output_type": "stream",
     "text": [
      "77.0 25.0\n",
      "collected 1482580 samples\n",
      "get rid of 1476022 (0.9955766299289077) samples - larger than 1000.0\n",
      "count    6558.000000\n",
      "mean      491.623059\n",
      "std       293.801202\n",
      "min         0.106629\n",
      "25%       234.594000\n",
      "50%       480.953500\n",
      "75%       751.921500\n",
      "max       999.857000\n",
      "Name: errors, dtype: float64\n"
     ]
    },
    {
     "data": {
      "text/plain": [
       "<Figure size 936x936 with 0 Axes>"
      ]
     },
     "metadata": {},
     "output_type": "display_data"
    },
    {
     "data": {
      "image/png": "[encoded data removed]",
      "text/plain": [
       "<Figure size 360x360 with 1 Axes>"
      ]
     },
     "metadata": {
      "needs_background": "light"
     },
     "output_type": "display_data"
    }
   ],
   "source": [
    "get_statistics(25, 1, 1e3)"
   ]
  },
  {
   "cell_type": "code",
   "execution_count": null,
   "id": "003a0672",
   "metadata": {},
   "outputs": [],
   "source": []
  }
 ],
 "metadata": {
  "kernelspec": {
   "display_name": "Python 3 (ipykernel)",
   "language": "python",
   "name": "python3"
  },
  "language_info": {
   "codemirror_mode": {
    "name": "ipython",
    "version": 3
   },
   "file_extension": ".py",
   "mimetype": "text/x-python",
   "name": "python",
   "nbconvert_exporter": "python",
   "pygments_lexer": "ipython3",
   "version": "3.9.0"
  }
 },
 "nbformat": 4,
 "nbformat_minor": 5
}
